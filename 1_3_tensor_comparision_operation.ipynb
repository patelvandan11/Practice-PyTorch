{
 "cells": [
  {
   "cell_type": "markdown",
   "metadata": {},
   "source": [
    "# comparision operator"
   ]
  },
  {
   "cell_type": "code",
   "execution_count": 1,
   "metadata": {},
   "outputs": [],
   "source": [
    "import torch\n"
   ]
  },
  {
   "cell_type": "code",
   "execution_count": 2,
   "metadata": {},
   "outputs": [],
   "source": [
    "i=torch.randint(0, 10, (2, 3))\n",
    "j=torch.randint(0, 10, (2, 3))"
   ]
  },
  {
   "cell_type": "code",
   "execution_count": 3,
   "metadata": {},
   "outputs": [
    {
     "name": "stdout",
     "output_type": "stream",
     "text": [
      "tensor([[3, 7, 3],\n",
      "        [7, 5, 6]])\n",
      "tensor([[8, 1, 3],\n",
      "        [2, 7, 5]])\n"
     ]
    }
   ],
   "source": [
    "print(i)\n",
    "print(j)"
   ]
  },
  {
   "cell_type": "code",
   "execution_count": 5,
   "metadata": {},
   "outputs": [
    {
     "name": "stdout",
     "output_type": "stream",
     "text": [
      "tensor([[False,  True, False],\n",
      "        [ True, False,  True]])\n",
      "tensor([[False,  True,  True],\n",
      "        [ True, False,  True]])\n",
      "tensor([[ True, False, False],\n",
      "        [False,  True, False]])\n",
      "tensor([[ True, False,  True],\n",
      "        [False,  True, False]])\n",
      "tensor([[False, False,  True],\n",
      "        [False, False, False]])\n",
      "tensor([[ True,  True, False],\n",
      "        [ True,  True,  True]])\n"
     ]
    }
   ],
   "source": [
    "#  greater than\n",
    "print(i > j)\n",
    "# greater than or equal to\n",
    "print(i >= j)\n",
    "# less than\n",
    "print(i < j)\n",
    "# less than or equal to\n",
    "print(i <= j)\n",
    "# equal to\n",
    "print(i == j)\n",
    "# not equal to\n",
    "print(i != j)"
   ]
  },
  {
   "cell_type": "code",
   "execution_count": 7,
   "metadata": {},
   "outputs": [
    {
     "name": "stdout",
     "output_type": "stream",
     "text": [
      "tensor([[3, 7, 3],\n",
      "        [7, 5, 6]])\n",
      "tensor([[8, 1, 3],\n",
      "        [2, 7, 5]])\n"
     ]
    }
   ],
   "source": [
    "print(i)\n",
    "print(j)"
   ]
  },
  {
   "cell_type": "code",
   "execution_count": 6,
   "metadata": {},
   "outputs": [
    {
     "name": "stdout",
     "output_type": "stream",
     "text": [
      "tensor([[False, False,  True],\n",
      "        [False, False, False]])\n",
      "tensor([[ True,  True, False],\n",
      "        [ True,  True,  True]])\n",
      "tensor([[False,  True, False],\n",
      "        [ True, False,  True]])\n",
      "tensor([[False,  True,  True],\n",
      "        [ True, False,  True]])\n",
      "tensor([[ True, False, False],\n",
      "        [False,  True, False]])\n",
      "tensor([[ True, False,  True],\n",
      "        [False,  True, False]])\n",
      "tensor([[False, False,  True],\n",
      "        [False, False, False]])\n"
     ]
    }
   ],
   "source": [
    "# element-wise comparison\n",
    "print(torch.eq(i, j))\n",
    "# element-wise comparison\n",
    "print(torch.ne(i, j))\n",
    "# element-wise comparison\n",
    "print(torch.gt(i, j))\n",
    "# element-wise comparison\n",
    "print(torch.ge(i, j))\n",
    "# element-wise comparison\n",
    "print(torch.lt(i, j))\n",
    "# element-wise comparison\n",
    "print(torch.le(i, j))\n",
    "# element-wise comparison\n",
    "print(torch.eq(i, j))\n",
    "# element-wise comparison"
   ]
  },
  {
   "cell_type": "markdown",
   "metadata": {},
   "source": [
    "# special function"
   ]
  },
  {
   "cell_type": "code",
   "execution_count": 8,
   "metadata": {},
   "outputs": [
    {
     "name": "stdout",
     "output_type": "stream",
     "text": [
      "log -> tensor([[1.0986, 1.9459, 1.0986],\n",
      "        [1.9459, 1.6094, 1.7918]])\n"
     ]
    }
   ],
   "source": [
    "print(\"log ->\",torch.log(i))"
   ]
  },
  {
   "cell_type": "code",
   "execution_count": 9,
   "metadata": {},
   "outputs": [
    {
     "name": "stdout",
     "output_type": "stream",
     "text": [
      "exp -> tensor([[  20.0855, 1096.6332,   20.0855],\n",
      "        [1096.6332,  148.4132,  403.4288]])\n"
     ]
    }
   ],
   "source": [
    "print(\"exp ->\",torch.exp(i))\n"
   ]
  },
  {
   "cell_type": "code",
   "execution_count": 10,
   "metadata": {},
   "outputs": [
    {
     "name": "stdout",
     "output_type": "stream",
     "text": [
      "abs -> tensor([[3, 7, 3],\n",
      "        [7, 5, 6]])\n"
     ]
    }
   ],
   "source": [
    "print(\"abs ->\",torch.abs(i))\n"
   ]
  },
  {
   "cell_type": "code",
   "execution_count": 11,
   "metadata": {},
   "outputs": [
    {
     "name": "stdout",
     "output_type": "stream",
     "text": [
      "sqrt -> tensor([[1.7321, 2.6458, 1.7321],\n",
      "        [2.6458, 2.2361, 2.4495]])\n"
     ]
    }
   ],
   "source": [
    "print(\"sqrt ->\",torch.sqrt(i))"
   ]
  },
  {
   "cell_type": "code",
   "execution_count": 13,
   "metadata": {},
   "outputs": [
    {
     "name": "stdout",
     "output_type": "stream",
     "text": [
      "sin -> tensor([[ 0.1411,  0.6570,  0.1411],\n",
      "        [ 0.6570, -0.9589, -0.2794]])\n"
     ]
    }
   ],
   "source": [
    "print(\"sin ->\",torch.sin(i))\n"
   ]
  },
  {
   "cell_type": "code",
   "execution_count": 17,
   "metadata": {},
   "outputs": [
    {
     "name": "stdout",
     "output_type": "stream",
     "text": [
      "tan -> tensor([[-0.1425,  0.8714, -0.1425],\n",
      "        [ 0.8714, -3.3805, -0.2910]])\n",
      "sigmoid -> tensor([[0.9526, 0.9991, 0.9526],\n",
      "        [0.9991, 0.9933, 0.9975]])\n"
     ]
    }
   ],
   "source": [
    "# print(\"cos ->\",torch.cos(i))\n",
    "print(\"tan ->\",torch.tan(i))\n",
    "print(\"sigmoid ->\",torch.sigmoid(i))\n"
   ]
  },
  {
   "cell_type": "code",
   "execution_count": 18,
   "metadata": {},
   "outputs": [
    {
     "name": "stdout",
     "output_type": "stream",
     "text": [
      "relu -> tensor([[3, 7, 3],\n",
      "        [7, 5, 6]])\n"
     ]
    }
   ],
   "source": [
    "print(\"relu ->\",torch.relu(i))"
   ]
  },
  {
   "cell_type": "code",
   "execution_count": 19,
   "metadata": {},
   "outputs": [],
   "source": [
    "i=torch.randint(0, 10, (2, 3),dtype=torch.float32)"
   ]
  },
  {
   "cell_type": "code",
   "execution_count": 22,
   "metadata": {},
   "outputs": [
    {
     "name": "stdout",
     "output_type": "stream",
     "text": [
      "softmax -> tensor([[0.8808, 0.1192, 0.9975],\n",
      "        [0.1192, 0.8808, 0.0025]])\n",
      "log_softmax -> tensor([[-0.1328, -5.1328, -2.1328],\n",
      "        [-0.3151, -1.3151, -6.3151]])\n",
      "tanh -> tensor([[1.0000, 0.9951, 1.0000],\n",
      "        [1.0000, 0.9999, 0.0000]])\n",
      "relu -> tensor([[8., 3., 6.],\n",
      "        [6., 5., 0.]])\n",
      "selu -> tensor([[8.4056, 3.1521, 6.3042],\n",
      "        [6.3042, 5.2535, 0.0000]])\n",
      "hardshrink -> tensor([[8., 3., 6.],\n",
      "        [6., 5., 0.]])\n"
     ]
    }
   ],
   "source": [
    "print(\"softmax ->\",torch.softmax(i,dim=0))\n",
    "print(\"log_softmax ->\",torch.log_softmax(i,dim=1))\n",
    "print(\"tanh ->\",torch.tanh(i))\n",
    "print(\"relu ->\",torch.relu(i))\n",
    "print(\"selu ->\",torch.selu(i))\n",
    "print(\"hardshrink ->\",torch.hardshrink(i))"
   ]
  }
 ],
 "metadata": {
  "kernelspec": {
   "display_name": "pytorch_env",
   "language": "python",
   "name": "python3"
  },
  "language_info": {
   "codemirror_mode": {
    "name": "ipython",
    "version": 3
   },
   "file_extension": ".py",
   "mimetype": "text/x-python",
   "name": "python",
   "nbconvert_exporter": "python",
   "pygments_lexer": "ipython3",
   "version": "3.9.21"
  }
 },
 "nbformat": 4,
 "nbformat_minor": 2
}
