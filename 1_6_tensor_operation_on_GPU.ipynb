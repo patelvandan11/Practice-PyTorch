{
 "cells": [
  {
   "cell_type": "code",
   "execution_count": 1,
   "metadata": {},
   "outputs": [],
   "source": [
    "import torch"
   ]
  },
  {
   "cell_type": "code",
   "execution_count": 3,
   "metadata": {},
   "outputs": [
    {
     "data": {
      "text/plain": [
       "True"
      ]
     },
     "execution_count": 3,
     "metadata": {},
     "output_type": "execute_result"
    }
   ],
   "source": [
    "torch.cuda.is_available() "
   ]
  },
  {
   "cell_type": "code",
   "execution_count": 5,
   "metadata": {},
   "outputs": [
    {
     "data": {
      "text/plain": [
       "device(type='cuda')"
      ]
     },
     "execution_count": 5,
     "metadata": {},
     "output_type": "execute_result"
    }
   ],
   "source": [
    "device=torch.device('cuda')\n",
    "device"
   ]
  },
  {
   "cell_type": "code",
   "execution_count": 7,
   "metadata": {},
   "outputs": [
    {
     "data": {
      "text/plain": [
       "tensor([[0.1024, 0.5697, 0.6155],\n",
       "        [0.7316, 0.1988, 0.9060]], device='cuda:0')"
      ]
     },
     "execution_count": 7,
     "metadata": {},
     "output_type": "execute_result"
    }
   ],
   "source": [
    "torch.rand((2,3),device=device)"
   ]
  },
  {
   "cell_type": "code",
   "execution_count": 8,
   "metadata": {},
   "outputs": [
    {
     "data": {
      "text/plain": [
       "tensor([[0.3826, 0.5850, 0.0704],\n",
       "        [0.9356, 0.6198, 0.9423]])"
      ]
     },
     "execution_count": 8,
     "metadata": {},
     "output_type": "execute_result"
    }
   ],
   "source": [
    "#  move tensor to cpu\n",
    "t=torch.rand((2,3))\n",
    "t"
   ]
  },
  {
   "cell_type": "code",
   "execution_count": 11,
   "metadata": {},
   "outputs": [
    {
     "data": {
      "text/plain": [
       "tensor([[0.3826, 0.5850, 0.0704],\n",
       "        [0.9356, 0.6198, 0.9423]], device='cuda:0')"
      ]
     },
     "execution_count": 11,
     "metadata": {},
     "output_type": "execute_result"
    }
   ],
   "source": [
    "v=t.to(device)\n",
    "v"
   ]
  },
  {
   "cell_type": "code",
   "execution_count": 13,
   "metadata": {},
   "outputs": [
    {
     "data": {
      "text/plain": [
       "tensor([[5.3826, 5.5850, 5.0704],\n",
       "        [5.9356, 5.6198, 5.9423]], device='cuda:0')"
      ]
     },
     "execution_count": 13,
     "metadata": {},
     "output_type": "execute_result"
    }
   ],
   "source": [
    "v+5"
   ]
  },
  {
   "cell_type": "code",
   "execution_count": 16,
   "metadata": {},
   "outputs": [
    {
     "name": "stdout",
     "output_type": "stream",
     "text": [
      "Time on cpu: 5.564979076385498 seconds\n",
      "Time on gpu: 0.0411076545715332 seconds\n"
     ]
    }
   ],
   "source": [
    "import time\n",
    "size=10000\n",
    "\n",
    "# create a random tensor on cpu\n",
    "matrix_cpu1=torch.rand(size,size)\n",
    "matrix_cpu2=torch.rand(size,size)\n",
    "\n",
    "# measure time to multiply on cpu\n",
    "start=time.time()\n",
    "result=torch.matmul(matrix_cpu1,matrix_cpu2)\n",
    "cpu_time=time.time()-start\n",
    "\n",
    "print(f\"Time on cpu: {cpu_time} seconds\")\n",
    "\n",
    "# moving tensors to gpu\n",
    "matrix_cuda1=matrix_cpu1.to(\"cuda\")\n",
    "matrix_cuda2=matrix_cpu2.to(\"cuda\")\n",
    "# measure time to multiply on gpu\n",
    "start=time.time()\n",
    "result=torch.matmul(matrix_cuda1,matrix_cuda2)\n",
    "gpu_time=time.time()-start\n",
    "print(f\"Time on gpu: {gpu_time} seconds\")"
   ]
  },
  {
   "cell_type": "code",
   "execution_count": null,
   "metadata": {},
   "outputs": [],
   "source": []
  }
 ],
 "metadata": {
  "kernelspec": {
   "display_name": "pytorch_env",
   "language": "python",
   "name": "python3"
  },
  "language_info": {
   "codemirror_mode": {
    "name": "ipython",
    "version": 3
   },
   "file_extension": ".py",
   "mimetype": "text/x-python",
   "name": "python",
   "nbconvert_exporter": "python",
   "pygments_lexer": "ipython3",
   "version": "3.9.21"
  }
 },
 "nbformat": 4,
 "nbformat_minor": 2
}
