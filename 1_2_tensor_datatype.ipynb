{
 "cells": [
  {
   "cell_type": "code",
   "execution_count": 1,
   "metadata": {},
   "outputs": [],
   "source": [
    "import torch"
   ]
  },
  {
   "cell_type": "markdown",
   "metadata": {},
   "source": [
    "#   tensor data type "
   ]
  },
  {
   "cell_type": "code",
   "execution_count": 3,
   "metadata": {},
   "outputs": [],
   "source": [
    "x=torch.tensor([[1,2,3],[4,5,6],[7,8,9]])"
   ]
  },
  {
   "cell_type": "code",
   "execution_count": 4,
   "metadata": {},
   "outputs": [
    {
     "data": {
      "text/plain": [
       "torch.int64"
      ]
     },
     "execution_count": 4,
     "metadata": {},
     "output_type": "execute_result"
    }
   ],
   "source": [
    "x.dtype"
   ]
  },
  {
   "cell_type": "code",
   "execution_count": 9,
   "metadata": {},
   "outputs": [
    {
     "name": "stderr",
     "output_type": "stream",
     "text": [
      "C:\\Users\\Vandan Patel\\AppData\\Local\\Temp\\ipykernel_764\\3968532395.py:2: DeprecationWarning: an integer is required (got type float).  Implicit conversion to integers using __int__ is deprecated, and may be removed in a future version of Python.\n",
      "  torch.tensor([1.0,2.0],dtype=torch.int32)\n"
     ]
    },
    {
     "data": {
      "text/plain": [
       "tensor([1, 2], dtype=torch.int32)"
      ]
     },
     "execution_count": 9,
     "metadata": {},
     "output_type": "execute_result"
    }
   ],
   "source": [
    "#  assign  data type\n",
    "torch.tensor([1.0,2.0],dtype=torch.int32)"
   ]
  },
  {
   "cell_type": "code",
   "execution_count": 10,
   "metadata": {},
   "outputs": [
    {
     "data": {
      "text/plain": [
       "tensor([1., 2., 3.], dtype=torch.float16)"
      ]
     },
     "execution_count": 10,
     "metadata": {},
     "output_type": "execute_result"
    }
   ],
   "source": [
    "#  assign  data type\n",
    "torch.tensor([1,2,3],dtype=torch.float16)\n",
    "                            #  also float32 float64 "
   ]
  },
  {
   "cell_type": "code",
   "execution_count": 13,
   "metadata": {},
   "outputs": [
    {
     "data": {
      "text/plain": [
       "tensor([[1., 2., 3.],\n",
       "        [4., 5., 6.],\n",
       "        [7., 8., 9.]])"
      ]
     },
     "execution_count": 13,
     "metadata": {},
     "output_type": "execute_result"
    }
   ],
   "source": [
    "#  using to ()\n",
    "x.to(torch.float32)"
   ]
  },
  {
   "cell_type": "markdown",
   "metadata": {},
   "source": [
    "| **Data Type**             | **Dtype**         | **Description**                                                                                                                                                                |\n",
    "|---------------------------|-------------------|--------------------------------------------------------------------------------------------------------------------------------------------------------------------------------|\n",
    "| **32-bit Floating Point** | `torch.float32`   | Standard floating-point type used for most deep learning tasks. Provides a balance between precision and memory usage.                                                         |\n",
    "| **64-bit Floating Point** | `torch.float64`   | Double-precision floating point. Useful for high-precision numerical tasks but uses more memory.                                                                               |\n",
    "| **16-bit Floating Point** | `torch.float16`   | Half-precision floating point. Commonly used in mixed-precision training to reduce memory and computational overhead on modern GPUs.                                            |\n",
    "| **BFloat16**              | `torch.bfloat16`  | Brain floating-point format with reduced precision compared to `float16`. Used in mixed-precision training, especially on TPUs.                                                |\n",
    "| **8-bit Floating Point**  | `torch.float8`    | Ultra-low-precision floating point. Used for experimental applications and extreme memory-constrained environments (less common).                                               |\n",
    "| **8-bit Integer**         | `torch.int8`      | 8-bit signed integer. Used for quantized models to save memory and computation in inference.                                                                                   |\n",
    "| **16-bit Integer**        | `torch.int16`     | 16-bit signed integer. Useful for special numerical tasks requiring intermediate precision.                                                                                    |\n",
    "| **32-bit Integer**        | `torch.int32`     | Standard signed integer type. Commonly used for indexing and general-purpose numerical tasks.                                                                                  |\n",
    "| **64-bit Integer**        | `torch.int64`     | Long integer type. Often used for large indexing arrays or for tasks involving large numbers.                                                                                  |\n",
    "| **8-bit Unsigned Integer**| `torch.uint8`     | 8-bit unsigned integer. Commonly used for image data (e.g., pixel values between 0 and 255).                                                                                    |\n",
    "| **Boolean**               | `torch.bool`      | Boolean type, stores `True` or `False` values. Often used for masks in logical operations.                                                                                      |\n",
    "| **Complex 64**            | `torch.complex64` | Complex number type with 32-bit real and 32-bit imaginary parts. Used for scientific and signal processing tasks.                                                               |\n",
    "| **Complex 128**           | `torch.complex128`| Complex number type with 64-bit real and 64-bit imaginary parts. Offers higher precision but uses more memory.                                                                 |\n",
    "| **Quantized Integer**     | `torch.qint8`     | Quantized signed 8-bit integer. Used in quantized models for efficient inference.                                                                                              |\n",
    "| **Quantized Unsigned Integer** | `torch.quint8` | Quantized unsigned 8-bit integer. Often used for quantized tensors in image-related tasks.                                                                                     |\n"
   ]
  },
  {
   "cell_type": "code",
   "execution_count": 15,
   "metadata": {},
   "outputs": [
    {
     "data": {
      "text/plain": [
       "tensor([[0.8004, 0.5459, 0.9053],\n",
       "        [0.5096, 0.3076, 0.0472],\n",
       "        [0.2935, 0.1158, 0.1248]], dtype=torch.float64)"
      ]
     },
     "execution_count": 15,
     "metadata": {},
     "output_type": "execute_result"
    }
   ],
   "source": [
    "torch.rand_like(x,dtype=float)"
   ]
  },
  {
   "cell_type": "markdown",
   "metadata": {},
   "source": [
    "# mathemtical operation "
   ]
  },
  {
   "cell_type": "code",
   "execution_count": 26,
   "metadata": {},
   "outputs": [
    {
     "name": "stdout",
     "output_type": "stream",
     "text": [
      " addition -> tensor([[2, 2, 2],\n",
      "        [2, 2, 2],\n",
      "        [3, 3, 3]])\n",
      " subtraction -> tensor([[0, 0, 0],\n",
      "        [0, 0, 0],\n",
      "        [1, 1, 1]])\n",
      " multiplication -> tensor([[ 5,  5,  5],\n",
      "        [ 5,  5,  5],\n",
      "        [10, 10, 10]])\n",
      " division -> tensor([[0.5000, 0.5000, 0.5000],\n",
      "        [0.5000, 0.5000, 0.5000],\n",
      "        [1.0000, 1.0000, 1.0000]])\n",
      " power  -> tensor([[1, 1, 1],\n",
      "        [1, 1, 1],\n",
      "        [4, 4, 4]])\n",
      " mod -> tensor([[1, 1, 1],\n",
      "        [1, 1, 1],\n",
      "        [0, 0, 0]])\n"
     ]
    }
   ],
   "source": [
    "x=torch.tensor([[1,1,1],[1,1,1],[2,2,2]])\n",
    "#  addition \n",
    "print(\" addition ->\",x+1)\n",
    "print(\" subtraction ->\",x-1)\n",
    "print(\" multiplication ->\",x*5)\n",
    "print(\" division ->\",x/2)\n",
    "print(\" power  ->\",x**2)\n",
    "print(\" mod ->\",x%2)\n",
    "\n"
   ]
  },
  {
   "cell_type": "code",
   "execution_count": 30,
   "metadata": {},
   "outputs": [
    {
     "data": {
      "text/plain": [
       "tensor([1, 2, 5])"
      ]
     },
     "execution_count": 30,
     "metadata": {},
     "output_type": "execute_result"
    }
   ],
   "source": [
    "# abs valu\n",
    "c=torch.tensor([1,-2,-5])\n",
    "torch.abs(c)"
   ]
  },
  {
   "cell_type": "code",
   "execution_count": 31,
   "metadata": {},
   "outputs": [
    {
     "data": {
      "text/plain": [
       "tensor([-1,  2,  5])"
      ]
     },
     "execution_count": 31,
     "metadata": {},
     "output_type": "execute_result"
    }
   ],
   "source": [
    "# negative\n",
    "torch.neg(c)"
   ]
  },
  {
   "cell_type": "code",
   "execution_count": 40,
   "metadata": {},
   "outputs": [
    {
     "name": "stdout",
     "output_type": "stream",
     "text": [
      "round -> tensor([2., 1., 2., 2., 2., 2., 0.])\n",
      "ceil -> tensor([2., 2., 2., 2., 2., 3., 1.])\n",
      "floor -> tensor([1., 1., 1., 1., 1., 2., 0.])\n",
      "clamp -> tensor([1.0000, 1.0000, 1.0000, 1.0000, 1.0000, 1.0000, 0.0960])\n"
     ]
    }
   ],
   "source": [
    "\n",
    "d=torch.tensor([1.5,1.3,1.9,1.6,1.5,2.3,0.096])\n",
    "print(\"round ->\",torch.round(d))\n",
    "print(\"ceil ->\",torch.ceil(d))\n",
    "print(\"floor ->\",torch.floor(d))\n",
    "print(\"clamp ->\",torch.clamp(d,min=0,max=1))\n"
   ]
  },
  {
   "cell_type": "markdown",
   "metadata": {},
   "source": [
    "# reduction operation"
   ]
  },
  {
   "cell_type": "code",
   "execution_count": 68,
   "metadata": {},
   "outputs": [
    {
     "data": {
      "text/plain": [
       "<function Tensor.type>"
      ]
     },
     "execution_count": 68,
     "metadata": {},
     "output_type": "execute_result"
    }
   ],
   "source": [
    "e=torch.randint(size=(2,3),low=0,high=10,dtype=torch.float32)\n",
    "e.type"
   ]
  },
  {
   "cell_type": "code",
   "execution_count": 69,
   "metadata": {},
   "outputs": [
    {
     "data": {
      "text/plain": [
       "tensor(34.)"
      ]
     },
     "execution_count": 69,
     "metadata": {},
     "output_type": "execute_result"
    }
   ],
   "source": [
    "# sum \n",
    "torch.sum(e)"
   ]
  },
  {
   "cell_type": "code",
   "execution_count": 73,
   "metadata": {},
   "outputs": [
    {
     "name": "stdout",
     "output_type": "stream",
     "text": [
      "sum along with row and column\n",
      "\n",
      "\n",
      "sum along with column tensor([13.,  9., 12.])\n",
      "sum along with row tensor([24., 10.])\n",
      "\n",
      "\n",
      "mean based on column tensor([6.5000, 4.5000, 6.0000])\n",
      "mean based on row tensor([8.0000, 3.3333])\n"
     ]
    }
   ],
   "source": [
    "print(\"sum along with row and column\")\n",
    "print(\"\\n\")\n",
    "print(\"sum along with column\",torch.sum(e,dim=0))\n",
    "print(\"sum along with row\",torch.sum(e,dim=1))\n",
    "print(\"\\n\")\n",
    "print(\"mean based on column\",torch.mean(e,dim=0))\n",
    "print(\"mean based on row\",torch.mean(e,dim=1))\n",
    "\n"
   ]
  },
  {
   "cell_type": "code",
   "execution_count": 75,
   "metadata": {},
   "outputs": [
    {
     "name": "stdout",
     "output_type": "stream",
     "text": [
      "median based on column torch.return_types.median(\n",
      "values=tensor([6., 0., 4.]),\n",
      "indices=tensor([1, 1, 1]))\n",
      "median based on row torch.return_types.median(\n",
      "values=tensor([8., 4.]),\n",
      "indices=tensor([2, 2]))\n"
     ]
    }
   ],
   "source": [
    "print(\"median based on column\",torch.median(e,dim=0))\n",
    "print(\"median based on row\",torch.median(e,dim=1))\n"
   ]
  },
  {
   "cell_type": "code",
   "execution_count": 80,
   "metadata": {},
   "outputs": [
    {
     "name": "stdout",
     "output_type": "stream",
     "text": [
      "max based on column torch.return_types.max(\n",
      "values=tensor([7., 9., 8.]),\n",
      "indices=tensor([0, 0, 0]))\n",
      "max based on row torch.return_types.max(\n",
      "values=tensor([9., 6.]),\n",
      "indices=tensor([1, 0]))\n"
     ]
    }
   ],
   "source": [
    "print(\"max based on column\",torch.max(e,dim=0))\n",
    "print(\"max based on row\",torch.max(e,dim=1))\n",
    "#  also calculate the min (minimum){ torch.min(e,dim={0/1})}"
   ]
  },
  {
   "cell_type": "code",
   "execution_count": 81,
   "metadata": {},
   "outputs": [
    {
     "name": "stdout",
     "output_type": "stream",
     "text": [
      "max based on column tensor([ 0.5000, 40.5000,  8.0000])\n",
      "max based on row tensor([1.0000, 9.3333])\n"
     ]
    }
   ],
   "source": [
    "print(\"max based on column\",torch.var(e,dim=0))\n",
    "print(\"max based on row\",torch.var(e,dim=1))"
   ]
  },
  {
   "cell_type": "code",
   "execution_count": 85,
   "metadata": {},
   "outputs": [
    {
     "data": {
      "text/plain": [
       "tensor([[7., 9., 8.],\n",
       "        [6., 0., 4.]])"
      ]
     },
     "execution_count": 85,
     "metadata": {},
     "output_type": "execute_result"
    }
   ],
   "source": [
    "e"
   ]
  },
  {
   "cell_type": "code",
   "execution_count": 87,
   "metadata": {},
   "outputs": [
    {
     "name": "stdout",
     "output_type": "stream",
     "text": [
      "tensor(4)\n",
      "tensor(1)\n"
     ]
    }
   ],
   "source": [
    "print(torch.argmin(e)) # give a position of a min \n",
    "print(torch.argmax(e))"
   ]
  },
  {
   "cell_type": "markdown",
   "metadata": {},
   "source": [
    "# matrix multiplication\n"
   ]
  },
  {
   "cell_type": "code",
   "execution_count": null,
   "metadata": {},
   "outputs": [],
   "source": [
    "e=torch.randint(size=(2,3),low=0,high=10,dtype=torch.float32)\n"
   ]
  }
 ],
 "metadata": {
  "kernelspec": {
   "display_name": "pytorch_env",
   "language": "python",
   "name": "python3"
  },
  "language_info": {
   "codemirror_mode": {
    "name": "ipython",
    "version": 3
   },
   "file_extension": ".py",
   "mimetype": "text/x-python",
   "name": "python",
   "nbconvert_exporter": "python",
   "pygments_lexer": "ipython3",
   "version": "3.9.21"
  }
 },
 "nbformat": 4,
 "nbformat_minor": 2
}
