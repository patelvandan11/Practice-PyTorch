{
 "cells": [
  {
   "cell_type": "code",
   "execution_count": 32,
   "metadata": {},
   "outputs": [],
   "source": [
    "import torch\n"
   ]
  },
  {
   "cell_type": "code",
   "execution_count": 33,
   "metadata": {},
   "outputs": [
    {
     "data": {
      "text/plain": [
       "tensor([[1., 1., 1., 1.],\n",
       "        [1., 1., 1., 1.],\n",
       "        [1., 1., 1., 1.],\n",
       "        [1., 1., 1., 1.]])"
      ]
     },
     "execution_count": 33,
     "metadata": {},
     "output_type": "execute_result"
    }
   ],
   "source": [
    "a=torch.ones(4,4)\n",
    "a"
   ]
  },
  {
   "cell_type": "code",
   "execution_count": 34,
   "metadata": {},
   "outputs": [
    {
     "data": {
      "text/plain": [
       "tensor([[[[1., 1.],\n",
       "          [1., 1.]],\n",
       "\n",
       "         [[1., 1.],\n",
       "          [1., 1.]]],\n",
       "\n",
       "\n",
       "        [[[1., 1.],\n",
       "          [1., 1.]],\n",
       "\n",
       "         [[1., 1.],\n",
       "          [1., 1.]]]])"
      ]
     },
     "execution_count": 34,
     "metadata": {},
     "output_type": "execute_result"
    }
   ],
   "source": [
    "# reshape\n",
    "a.reshape(2,2,2,2) # original shape is 4x4=16, new shape is 2x2x2x2=16"
   ]
  },
  {
   "cell_type": "code",
   "execution_count": 35,
   "metadata": {},
   "outputs": [
    {
     "data": {
      "text/plain": [
       "tensor([1., 1., 1., 1., 1., 1., 1., 1., 1., 1., 1., 1., 1., 1., 1., 1.])"
      ]
     },
     "execution_count": 35,
     "metadata": {},
     "output_type": "execute_result"
    }
   ],
   "source": [
    "a.flatten() # flatten the tensor to 1D\n"
   ]
  },
  {
   "cell_type": "code",
   "execution_count": 36,
   "metadata": {},
   "outputs": [
    {
     "data": {
      "text/plain": [
       "tensor([[[0.2153, 0.5531, 0.6625, 0.5377],\n",
       "         [0.9125, 0.4928, 0.4607, 0.9776],\n",
       "         [0.8886, 0.5158, 0.4645, 0.9233]],\n",
       "\n",
       "        [[0.9260, 0.4753, 0.5356, 0.8635],\n",
       "         [0.9096, 0.0411, 0.4291, 0.7254],\n",
       "         [0.9276, 0.3592, 0.7975, 0.6149]]])"
      ]
     },
     "execution_count": 36,
     "metadata": {},
     "output_type": "execute_result"
    }
   ],
   "source": [
    "b=torch.rand(2,3,4)\n",
    "b"
   ]
  },
  {
   "cell_type": "code",
   "execution_count": 41,
   "metadata": {},
   "outputs": [
    {
     "name": "stdout",
     "output_type": "stream",
     "text": [
      "torch.Size([2, 3, 4])\n",
      "tensor([[[0.2153, 0.5531, 0.6625, 0.5377],\n",
      "         [0.9260, 0.4753, 0.5356, 0.8635]],\n",
      "\n",
      "        [[0.9125, 0.4928, 0.4607, 0.9776],\n",
      "         [0.9096, 0.0411, 0.4291, 0.7254]],\n",
      "\n",
      "        [[0.8886, 0.5158, 0.4645, 0.9233],\n",
      "         [0.9276, 0.3592, 0.7975, 0.6149]]])\n",
      "torch.Size([3, 2, 4])\n"
     ]
    }
   ],
   "source": [
    "# permute\n",
    "print(b.shape)\n",
    "# change the order of dimensions of a tensor without changing the data itself \n",
    "print(b.permute(1,0,2)) # (2,3,4) index[0,1,2]-> index(1,0,2) [3,2,4]\n",
    "print(b.permute(1,0,2).shape) "
   ]
  },
  {
   "cell_type": "code",
   "execution_count": 42,
   "metadata": {},
   "outputs": [],
   "source": [
    "# unsqueeze\n",
    "# image size\n",
    "d=torch.rand(226,226,3)"
   ]
  },
  {
   "cell_type": "code",
   "execution_count": 46,
   "metadata": {},
   "outputs": [
    {
     "name": "stdout",
     "output_type": "stream",
     "text": [
      "torch.Size([1, 226, 226, 3])\n"
     ]
    }
   ],
   "source": [
    "# print(d.unsqueeze(0)) # add a dimension at the beginning\n",
    "print(d.unsqueeze(0).shape) # (1,226,226,3)\n",
    "\n",
    "#  use of unsqueeze in CNN:  add a batch, channel dimension , and then height and width dimension \n",
    "\n"
   ]
  },
  {
   "cell_type": "code",
   "execution_count": 47,
   "metadata": {},
   "outputs": [
    {
     "data": {
      "text/plain": [
       "tensor([[0.8627, 0.1521, 0.3447, 0.7943, 0.5241, 0.3751, 0.9634, 0.0288, 0.3225,\n",
       "         0.8857, 0.2599, 0.8076, 0.7266, 0.2750, 0.2481, 0.4852, 0.2123, 0.7807,\n",
       "         0.7691, 0.4897]])"
      ]
     },
     "execution_count": 47,
     "metadata": {},
     "output_type": "execute_result"
    }
   ],
   "source": [
    "d=torch.rand(1,20)\n",
    "d"
   ]
  },
  {
   "cell_type": "code",
   "execution_count": 49,
   "metadata": {},
   "outputs": [
    {
     "name": "stdout",
     "output_type": "stream",
     "text": [
      "tensor([0.8627, 0.1521, 0.3447, 0.7943, 0.5241, 0.3751, 0.9634, 0.0288, 0.3225,\n",
      "        0.8857, 0.2599, 0.8076, 0.7266, 0.2750, 0.2481, 0.4852, 0.2123, 0.7807,\n",
      "        0.7691, 0.4897])\n",
      "torch.Size([20])\n"
     ]
    }
   ],
   "source": [
    "# squeeze\n",
    "# remove the dimension of size 1\n",
    "print(d.squeeze(0)) # remove the first dimension of size 1\n",
    "print(d.squeeze(0).shape) "
   ]
  },
  {
   "cell_type": "code",
   "execution_count": null,
   "metadata": {},
   "outputs": [],
   "source": []
  }
 ],
 "metadata": {
  "kernelspec": {
   "display_name": "pytorch_env",
   "language": "python",
   "name": "python3"
  },
  "language_info": {
   "codemirror_mode": {
    "name": "ipython",
    "version": 3
   },
   "file_extension": ".py",
   "mimetype": "text/x-python",
   "name": "python",
   "nbconvert_exporter": "python",
   "pygments_lexer": "ipython3",
   "version": "3.9.21"
  }
 },
 "nbformat": 4,
 "nbformat_minor": 2
}
